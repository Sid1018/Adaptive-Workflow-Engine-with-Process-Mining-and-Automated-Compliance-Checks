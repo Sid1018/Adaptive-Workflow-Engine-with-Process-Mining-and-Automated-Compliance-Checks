{
  "nbformat": 4,
  "nbformat_minor": 0,
  "metadata": {
    "colab": {
      "provenance": []
    },
    "kernelspec": {
      "name": "python3",
      "display_name": "Python 3"
    },
    "language_info": {
      "name": "python"
    }
  },
  "cells": [
    {
      "cell_type": "markdown",
      "source": [
        "We'll integrate automated compliance verification into workflows to ensure all tasks and approvals meet regulatory requirements, reducing human error."
      ],
      "metadata": {
        "id": "0cS11xmA2DaJ"
      }
    },
    {
      "cell_type": "code",
      "execution_count": null,
      "metadata": {
        "id": "pZEzxJxsz-mV"
      },
      "outputs": [],
      "source": [
        "# Sample compliance rules\n",
        "compliance_rules = {\n",
        "    'A': ['B'],\n",
        "    'B': ['C'],\n",
        "    'C': []\n",
        "}\n",
        "\n",
        "# Function to check compliance\n",
        "def check_compliance(case_id, events):\n",
        "    for i in range(len(events) - 1):\n",
        "        if events[i + 1] not in compliance_rules[events[i]]:\n",
        "            return False\n",
        "    return True\n",
        "\n",
        "# Check compliance for each case\n",
        "cases = df.groupby('case_id')['activity'].apply(list).to_dict()\n",
        "for case_id, events in cases.items():\n",
        "    compliant = check_compliance(case_id, events)\n",
        "    print(f'Case {case_id} compliance: {\"Compliant\" if compliant else \"Non-compliant\"}')\n"
      ]
    },
    {
      "cell_type": "markdown",
      "source": [],
      "metadata": {
        "id": "4MDERkkJ2CVk"
      }
    }
  ]
}